{
  "nbformat": 4,
  "nbformat_minor": 0,
  "metadata": {
    "colab": {
      "provenance": []
    },
    "kernelspec": {
      "name": "python3",
      "display_name": "Python 3"
    },
    "language_info": {
      "name": "python"
    }
  },
  "cells": [
    {
      "cell_type": "code",
      "source": [
        "from google.colab import drive\n",
        "drive.mount('/content/drive')"
      ],
      "metadata": {
        "colab": {
          "base_uri": "https://localhost:8080/"
        },
        "id": "qG3xeD_FnWla",
        "outputId": "81bc00bc-42c5-4830-b474-438ff7118d97"
      },
      "execution_count": null,
      "outputs": [
        {
          "output_type": "stream",
          "name": "stdout",
          "text": [
            "Mounted at /content/drive\n"
          ]
        }
      ]
    },
    {
      "cell_type": "code",
      "source": [
        "import os\n",
        "import random\n",
        "import tensorflow as tf\n",
        "from tensorflow.keras.preprocessing.image import load_img, img_to_array\n",
        "import numpy as np\n",
        "import pickle\n",
        "from sklearn.model_selection import train_test_split"
      ],
      "metadata": {
        "id": "84AYxtq8nyoC"
      },
      "execution_count": null,
      "outputs": []
    },
    {
      "cell_type": "markdown",
      "source": [
        "##데이터 준비"
      ],
      "metadata": {
        "id": "5bk5MKxogZNW"
      }
    },
    {
      "cell_type": "code",
      "execution_count": null,
      "metadata": {
        "id": "lN7sLKyqnNnl"
      },
      "outputs": [],
      "source": [
        "# 1. 데이터 로드\n",
        "def load_dataset(data_path):\n",
        "    dataset = []\n",
        "    labels = []\n",
        "    for person_id, person_dir in enumerate(os.listdir(data_path)):\n",
        "        person_path = os.path.join(data_path, person_dir)\n",
        "        if os.path.isdir(person_path):\n",
        "            for img_file in os.listdir(person_path):\n",
        "                img_path = os.path.join(person_path, img_file)\n",
        "                dataset.append(img_path)\n",
        "                labels.append(person_id)\n",
        "    return dataset, labels\n",
        "\n",
        "# 2. 쌍 생성 함수\n",
        "def create_image_pairs(dataset, labels, num_pairs_same, num_pairs_diff):\n",
        "    same_pairs = []\n",
        "    diff_pairs = []\n",
        "    label_to_indices = {}\n",
        "\n",
        "    # 라벨 별 인덱스 그룹화\n",
        "    for idx, label in enumerate(labels):\n",
        "        if label not in label_to_indices:\n",
        "            label_to_indices[label] = []\n",
        "        label_to_indices[label].append(idx)\n",
        "\n",
        "    # 동일 인물 쌍 생성\n",
        "    for _ in range(num_pairs_same):\n",
        "        label = random.choice(list(label_to_indices.keys()))\n",
        "        idx1, idx2 = random.sample(label_to_indices[label], 2)\n",
        "        same_pairs.append((dataset[idx1], dataset[idx2], 1))  # Label: 1 (Same)\n",
        "\n",
        "    # 다른 인물 쌍 생성\n",
        "    unique_labels = list(label_to_indices.keys())\n",
        "    for _ in range(num_pairs_diff):\n",
        "        label1, label2 = random.sample(unique_labels, 2)\n",
        "        idx1 = random.choice(label_to_indices[label1])\n",
        "        idx2 = random.choice(label_to_indices[label2])\n",
        "        diff_pairs.append((dataset[idx1], dataset[idx2], 0))  # Label: 0 (Different)\n",
        "\n",
        "    return same_pairs + diff_pairs\n",
        "\n",
        "# 3. 데이터셋 생성\n",
        "def prepare_image_pairs(data_path, num_pairs_same=200, num_pairs_diff=200):\n",
        "    dataset, labels = load_dataset(data_path)\n",
        "    pairs = create_image_pairs(dataset, labels, num_pairs_same, num_pairs_diff)\n",
        "    random.shuffle(pairs)\n",
        "    return pairs\n",
        "\n",
        "\n",
        "# 4. TF 데이터셋 변환\n",
        "def create_tf_dataset(pairs, image_size=(112, 112)):  # ArcFace에 맞게 (112, 112)로 설정\n",
        "    def preprocess(img1_path, img2_path, label):\n",
        "        # 이미지 로드 및 전처리\n",
        "        img1 = tf.image.resize(\n",
        "            tf.image.decode_jpeg(tf.io.read_file(img1_path), channels=3),\n",
        "            image_size\n",
        "        ) / 255.0\n",
        "        img2 = tf.image.resize(\n",
        "            tf.image.decode_jpeg(tf.io.read_file(img2_path), channels=3),\n",
        "            image_size\n",
        "        ) / 255.0\n",
        "\n",
        "        # label을 float32로 변환\n",
        "        label = tf.cast(label, tf.float32)\n",
        "        return (img1, img2), label\n",
        "\n",
        "    # Dataset 생성\n",
        "    img1_paths = [pair[0] for pair in pairs]\n",
        "    img2_paths = [pair[1] for pair in pairs]\n",
        "    labels = [pair[2] for pair in pairs]\n",
        "\n",
        "    dataset = tf.data.Dataset.from_tensor_slices((img1_paths, img2_paths, labels))\n",
        "    dataset = dataset.map(\n",
        "        lambda img1_path, img2_path, label: tf.py_function(\n",
        "            preprocess, [img1_path, img2_path, label],\n",
        "            (tf.float32, tf.float32)\n",
        "        ),\n",
        "        num_parallel_calls=tf.data.AUTOTUNE\n",
        "    )\n",
        "    return dataset\n",
        "\n"
      ]
    },
    {
      "cell_type": "code",
      "source": [
        "# 사용 예제\n",
        "data_path = '/content/drive/MyDrive/Colab Notebooks/cropped_faces'  # 데이터 디렉토리 경로\n",
        "# pairs = prepare_image_pairs(data_path)\n"
      ],
      "metadata": {
        "id": "qyP4OFtsn1Hw"
      },
      "execution_count": null,
      "outputs": []
    },
    {
      "cell_type": "code",
      "source": [
        "'''data = []\n",
        "labels = []\n",
        "for pair in pairs:\n",
        "  img1_path, img2_path, label = pair\n",
        "  img1 = tf.image.resize(\n",
        "            tf.image.decode_jpeg(tf.io.read_file(img1_path), channels=3),\n",
        "            (112,112)\n",
        "        ) / 255.0\n",
        "  img2 = tf.image.resize(\n",
        "      tf.image.decode_jpeg(tf.io.read_file(img2_path), channels=3),\n",
        "      (112,112)\n",
        "  ) / 255.0\n",
        "\n",
        "  data.append([img1, img2])\n",
        "  labels.append(label)'''"
      ],
      "metadata": {
        "id": "irEp_mASwMh7",
        "colab": {
          "base_uri": "https://localhost:8080/",
          "height": 108
        },
        "outputId": "79bda84e-ea0a-4ddc-a91e-b0c4352ea5dc"
      },
      "execution_count": null,
      "outputs": [
        {
          "output_type": "execute_result",
          "data": {
            "text/plain": [
              "'data = []\\nlabels = []\\nfor pair in pairs:\\n  img1_path, img2_path, label = pair\\n  img1 = tf.image.resize(\\n            tf.image.decode_jpeg(tf.io.read_file(img1_path), channels=3),\\n            (112,112)\\n        ) / 255.0\\n  img2 = tf.image.resize(\\n      tf.image.decode_jpeg(tf.io.read_file(img2_path), channels=3),\\n      (112,112)\\n  ) / 255.0\\n\\n  data.append([img1, img2])\\n  labels.append(label)'"
            ],
            "application/vnd.google.colaboratory.intrinsic+json": {
              "type": "string"
            }
          },
          "metadata": {},
          "execution_count": 5
        }
      ]
    },
    {
      "cell_type": "code",
      "source": [
        "dataset, labels = load_dataset(data_path)\n",
        "datas = []\n",
        "for p in dataset:\n",
        "  datas.append(tf.image.resize(\n",
        "            tf.image.decode_jpeg(tf.io.read_file(p), channels=3),\n",
        "            (112,112)\n",
        "        ) / 255.0)\n",
        "#datas = datas[:-2]\n",
        "#labels = labels[:-2]"
      ],
      "metadata": {
        "id": "Xh0St3Z4Iror"
      },
      "execution_count": null,
      "outputs": []
    },
    {
      "cell_type": "code",
      "source": [
        "# img1_list = []\n",
        "# img2_list = []\n",
        "# for d in data:\n",
        "#   img1_list.append(d[0])\n",
        "#   img2_list.append(d[1])"
      ],
      "metadata": {
        "id": "V8GD4QBf220l"
      },
      "execution_count": null,
      "outputs": []
    },
    {
      "cell_type": "code",
      "source": [
        "#with open('/content/drive/MyDrive/Colab Notebooks/image_pairs.pkl', 'rb') as f:\n",
        "#  pair_path = pickle.load(f)"
      ],
      "metadata": {
        "id": "j4n3q5o0qwVx"
      },
      "execution_count": null,
      "outputs": []
    },
    {
      "cell_type": "markdown",
      "source": [
        "##데이터셋 준비"
      ],
      "metadata": {
        "id": "LpjG1KETgj7R"
      }
    },
    {
      "cell_type": "code",
      "source": [
        "num_classes = 4\n",
        "num_samples = 418\n",
        "input_shape = (112,112,3)"
      ],
      "metadata": {
        "id": "dcS0V8L2gi5C"
      },
      "execution_count": null,
      "outputs": []
    },
    {
      "cell_type": "code",
      "source": [
        "train_data, validation_data, train_label, validation_label = train_test_split(datas, labels, test_size = 2/13, shuffle = True)"
      ],
      "metadata": {
        "id": "4rgBpAY7gi5E"
      },
      "execution_count": null,
      "outputs": []
    },
    {
      "cell_type": "code",
      "source": [
        "datas = np.array(train_data, dtype=np.float32)\n",
        "labels = np.array(tf.cast(train_label, dtype=tf.int32))\n",
        "val_datas = np.array(validation_data, dtype=np.float32)\n",
        "val_labels = np.array(tf.cast(validation_label, dtype=tf.int32))"
      ],
      "metadata": {
        "id": "Hj9kytM4gi5F"
      },
      "execution_count": null,
      "outputs": []
    },
    {
      "cell_type": "code",
      "source": [
        "print('train:', len(datas))\n",
        "print('validation:', len(val_datas))"
      ],
      "metadata": {
        "colab": {
          "base_uri": "https://localhost:8080/"
        },
        "outputId": "a3cfe835-d337-43b6-f033-5b357831e09a",
        "id": "lzLy4SClgi5H"
      },
      "execution_count": null,
      "outputs": [
        {
          "output_type": "stream",
          "name": "stdout",
          "text": [
            "train: 353\n",
            "validation: 65\n"
          ]
        }
      ]
    },
    {
      "cell_type": "code",
      "source": [
        "dataset = tf.data.Dataset.from_tensor_slices((datas, labels))\n",
        "dataset = dataset.map(\n",
        "    lambda x, y: ({\"input_image\": x, \"input_labels\": tf.cast(y, tf.int32)}, tf.cast(y, tf.int32))\n",
        ")  # 모델 입력 형태 맞추기\n",
        "dataset = dataset.batch(16).shuffle(100)"
      ],
      "metadata": {
        "id": "w3VGruvtgi5J"
      },
      "execution_count": null,
      "outputs": []
    },
    {
      "cell_type": "code",
      "source": [
        "# val_dataset 생성\n",
        "val_dataset = tf.data.Dataset.from_tensor_slices((val_datas, val_labels))\n",
        "\n",
        "# 데이터를 모델에 맞는 형태로 변환\n",
        "val_dataset = val_dataset.map(\n",
        "    lambda x, y: ({\"input_image\": x, \"input_labels\": tf.cast(y, tf.int32)}, tf.cast(y, tf.int32))\n",
        ")\n",
        "\n",
        "# 배치 크기 및 셔플\n",
        "val_dataset = val_dataset.batch(16).shuffle(100)"
      ],
      "metadata": {
        "id": "5QGMG9wWgi5K"
      },
      "execution_count": null,
      "outputs": []
    },
    {
      "cell_type": "code",
      "source": [],
      "metadata": {
        "id": "F1zOSVRQGQz_"
      },
      "execution_count": null,
      "outputs": []
    },
    {
      "cell_type": "markdown",
      "source": [
        "##모델 준비"
      ],
      "metadata": {
        "id": "Ip0jDLL0gnQ1"
      }
    },
    {
      "cell_type": "code",
      "source": [
        "import cv2\n",
        "import numpy as np\n",
        "#import insightface\n",
        "#from insightface.app import FaceAnalysis\n",
        "#from insightface.data import get_image as ins_get_image\n",
        "import tensorflow as tf\n",
        "from tensorflow.keras.layers import Input, Dense, Lambda, Flatten, Dropout\n",
        "from tensorflow.keras.models import Model\n",
        "from tensorflow.keras.optimizers import Adam"
      ],
      "metadata": {
        "id": "x_vBta4yGch2"
      },
      "execution_count": null,
      "outputs": []
    },
    {
      "cell_type": "code",
      "source": [
        "def arcface_loss(embedding, labels, num_classes, s=64.0, m=0.5):\n",
        "    # 가중치는 함수 외부에서 정의 및 초기화\n",
        "    weights = tf.Variable(\n",
        "        tf.random.normal([embedding.shape[1], num_classes]), trainable=True, name=\"arcface_weights\"\n",
        "    )\n",
        "    weights = tf.nn.l2_normalize(weights, axis=0)  # Normalize weights\n",
        "\n",
        "    def loss_fn(labels, embeddings):\n",
        "        # Normalize embeddings\n",
        "        embeddings = tf.nn.l2_normalize(embeddings, axis=1)\n",
        "\n",
        "        # Compute logits\n",
        "        logits = tf.matmul(embeddings, weights)\n",
        "\n",
        "        # Apply ArcFace margin\n",
        "        one_hot = tf.one_hot(labels, depth=num_classes)\n",
        "        theta = tf.acos(tf.clip_by_value(logits, -1.0, 1.0))\n",
        "        margin_logits = tf.cos(theta + m)\n",
        "\n",
        "        # Scale logits\n",
        "        logits = logits * (1 - one_hot) + margin_logits * one_hot\n",
        "        logits *= s\n",
        "\n",
        "        # Compute loss\n",
        "        return tf.reduce_mean(tf.nn.sparse_softmax_cross_entropy_with_logits(labels=labels, logits=logits))\n",
        "\n",
        "    return loss_fn\n"
      ],
      "metadata": {
        "id": "9PPhJKX4SRDr"
      },
      "execution_count": null,
      "outputs": []
    },
    {
      "cell_type": "code",
      "source": [
        "class ArcFaceLayer(tf.keras.layers.Layer):\n",
        "    def __init__(self, num_classes, embedding_dim, s=64.0, m=0.5):\n",
        "        super(ArcFaceLayer, self).__init__()\n",
        "        self.num_classes = num_classes\n",
        "        self.embedding_dim = embedding_dim\n",
        "        self.s = s\n",
        "        self.m = m\n",
        "\n",
        "    def call(self, embeddings, labels, weights):\n",
        "        # Normalize embeddings and weights\n",
        "        embeddings = tf.nn.l2_normalize(embeddings, axis=1)\n",
        "        weights = tf.nn.l2_normalize(weights, axis=0)\n",
        "\n",
        "        # Compute logits (similarity score between embeddings and weights)\n",
        "        logits = tf.matmul(embeddings, weights)\n",
        "\n",
        "        # Apply ArcFace margin\n",
        "        one_hot = tf.one_hot(labels, depth=self.num_classes)\n",
        "        theta = tf.acos(tf.clip_by_value(logits, -1.0, 1.0))\n",
        "        margin_logits = tf.cos(theta + self.m)\n",
        "\n",
        "        # Scale logits\n",
        "        logits = logits * (1 - one_hot) + margin_logits * one_hot\n",
        "        logits *= self.s\n",
        "\n",
        "        return logits"
      ],
      "metadata": {
        "id": "C57Xb4KFSTTb"
      },
      "execution_count": null,
      "outputs": []
    },
    {
      "cell_type": "markdown",
      "source": [
        "##모델 구축"
      ],
      "metadata": {
        "id": "ZWs7O3y4gp4-"
      }
    },
    {
      "cell_type": "code",
      "source": [
        "embedding_dim = 128\n",
        "num_classes = 4  # 실제 데이터셋에 맞게 수정"
      ],
      "metadata": {
        "id": "kgcOii3uSWap"
      },
      "execution_count": null,
      "outputs": []
    },
    {
      "cell_type": "code",
      "source": [
        "inputs = tf.keras.layers.Input(shape=(112, 112, 3), name=\"input_image\")\n",
        "labels = tf.keras.layers.Input(shape=(), dtype=tf.int32, name=\"input_labels\")"
      ],
      "metadata": {
        "id": "0qF7jU9ISYoY"
      },
      "execution_count": null,
      "outputs": []
    },
    {
      "cell_type": "code",
      "source": [
        "# Backbone\n",
        "x = tf.keras.layers.Conv2D(32, (3, 3), activation=\"relu\")(inputs)\n",
        "x = tf.keras.layers.Conv2D(32, (3, 3), activation=\"relu\")(x)\n",
        "x = tf.keras.layers.Flatten()(x)\n",
        "embedding = tf.keras.layers.Dense(embedding_dim, activation=\"relu\")(x)\n",
        "\n",
        "# ArcFace Layer\n",
        "weights = tf.Variable(tf.random.normal([embedding_dim, num_classes]), trainable=True)\n",
        "\n",
        "arcface_logits = ArcFaceLayer(num_classes, embedding_dim)(embedding, labels, weights)\n",
        "\n",
        "# Final Model\n",
        "model = tf.keras.Model(inputs=[inputs, labels], outputs=arcface_logits)\n"
      ],
      "metadata": {
        "id": "o7yKHS_0SZ9-"
      },
      "execution_count": null,
      "outputs": []
    },
    {
      "cell_type": "markdown",
      "source": [
        "##학습"
      ],
      "metadata": {
        "id": "sNojPjjwgr5I"
      }
    },
    {
      "cell_type": "code",
      "source": [
        "# Compile the model\n",
        "model.compile(optimizer=\"adam\", loss='sparse_categorical_crossentropy', metrics=[\"accuracy\"])"
      ],
      "metadata": {
        "id": "rbT2M2y5Sbpu"
      },
      "execution_count": null,
      "outputs": []
    },
    {
      "cell_type": "code",
      "source": [
        "history = model.fit(dataset, epochs=10, validation_data = val_dataset, batch_size = 16)"
      ],
      "metadata": {
        "id": "mS_UEh5keCfB"
      },
      "execution_count": null,
      "outputs": []
    },
    {
      "cell_type": "markdown",
      "source": [
        "##결과 확인"
      ],
      "metadata": {
        "id": "cO9TXfH6gtpQ"
      }
    },
    {
      "cell_type": "code",
      "source": [
        "# 훈련 후 History 객체에서 loss, accuracy 확인\n",
        "loss = history.history['loss']\n",
        "accuracy = history.history['accuracy']\n",
        "val_loss = history.history['val_loss']\n",
        "val_accuracy = history.history['val_accuracy']\n",
        "\n",
        "#print(\"Training Loss:\", loss)\n",
        "#print(\"Training Accuracy:\", accuracy)\n",
        "#print(\"Validation Loss:\", val_loss)\n",
        "#print(\"Validation Accuracy\", val_accuracy)"
      ],
      "metadata": {
        "id": "rT8kDyPYSlEx"
      },
      "execution_count": null,
      "outputs": []
    },
    {
      "cell_type": "code",
      "source": [
        "epochs = range(1, len(loss) + 1)  # epoch 번호"
      ],
      "metadata": {
        "id": "McJFhC9kesan"
      },
      "execution_count": null,
      "outputs": []
    },
    {
      "cell_type": "code",
      "source": [
        "import matplotlib.pyplot as plt\n",
        "\n",
        "# Loss 그래프\n",
        "plt.figure(figsize=(12, 6))\n",
        "plt.subplot(1, 2, 1)\n",
        "plt.plot(epochs, loss, label='Training Loss', color='blue')\n",
        "plt.plot(epochs, val_loss, label='Validation Loss', color='orange')\n",
        "plt.title('Loss')\n",
        "plt.xlabel('Epoch')\n",
        "plt.ylabel('Loss')\n",
        "plt.grid(True)\n",
        "plt.legend()\n",
        "\n",
        "# Accuracy 그래프\n",
        "'''\n",
        "plt.subplot(1, 2, 2)\n",
        "plt.plot(epochs, accuracy, label='Training Accuracy', color='green')\n",
        "plt.plot(epochs, val_accuracy, label='Validation Accuracy', color='red')\n",
        "plt.title('Accuracy')\n",
        "plt.xlabel('Epoch')\n",
        "plt.ylabel('Accuracy')\n",
        "plt.grid(True)\n",
        "plt.legend()'''\n",
        "\n",
        "# 그래프 보여주기\n",
        "plt.tight_layout()\n",
        "plt.show()"
      ],
      "metadata": {
        "colab": {
          "base_uri": "https://localhost:8080/",
          "height": 607
        },
        "id": "EnkTpp22bQ1d",
        "outputId": "ab0e0307-0b98-4426-fb3e-13dfcdd0b5d5"
      },
      "execution_count": null,
      "outputs": [
        {
          "output_type": "display_data",
          "data": {
            "text/plain": [
              "<Figure size 1200x600 with 1 Axes>"
            ],
            "image/png": "[encoded data removed]"
          },
          "metadata": {}
        }
      ]
    },
    {
      "cell_type": "code",
      "source": [],
      "metadata": {
        "id": "kgEk0tGgSQyk"
      },
      "execution_count": null,
      "outputs": []
    },
    {
      "cell_type": "code",
      "source": [],
      "metadata": {
        "id": "kGi2FS7XJdN5"
      },
      "execution_count": null,
      "outputs": []
    }
  ]
}