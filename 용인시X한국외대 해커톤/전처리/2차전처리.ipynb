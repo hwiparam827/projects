{
  "cells": [
    {
      "cell_type": "code",
      "execution_count": 1,
      "id": "737886c2",
      "metadata": {
        "ExecuteTime": {
          "end_time": "2024-10-12T12:34:30.822401Z",
          "start_time": "2024-10-12T12:34:30.817572Z"
        },
        "id": "737886c2"
      },
      "outputs": [],
      "source": [
        "import pandas as pd\n",
        "import numpy as np"
      ]
    },
    {
      "cell_type": "code",
      "execution_count": 7,
      "id": "98e88476",
      "metadata": {
        "ExecuteTime": {
          "end_time": "2024-10-12T12:34:32.193843Z",
          "start_time": "2024-10-12T12:34:30.824400Z"
        },
        "id": "98e88476"
      },
      "outputs": [],
      "source": [
        "train = pd.read_csv('train_df_jiwon.csv',encoding='utf-8-sig')\n",
        "test = pd.read_csv('test_df_jiwon.csv',encoding='utf-8-sig')"
      ]
    },
    {
      "cell_type": "markdown",
      "id": "ef59d3c8",
      "metadata": {
        "id": "ef59d3c8"
      },
      "source": [
        "#스포츠일반 :40456:푸바오(사회미디어)"
      ]
    },
    {
      "cell_type": "code",
      "execution_count": 6,
      "id": "7f65cf52",
      "metadata": {
        "ExecuteTime": {
          "end_time": "2024-10-12T12:34:32.206397Z",
          "start_time": "2024-10-12T12:34:32.195849Z"
        },
        "id": "7f65cf52"
      },
      "outputs": [],
      "source": [
        "drop_indices_1 = [40456]\n",
        "#drop_indices_5 = [18876] #결측값 생김\n",
        "all_drop_indices = drop_indices_1\n",
        "train = train.drop(all_drop_indices)"
      ]
    },
    {
      "cell_type": "code",
      "execution_count": null,
      "id": "8754e248",
      "metadata": {
        "ExecuteTime": {
          "end_time": "2024-10-12T12:34:32.353989Z",
          "start_time": "2024-10-12T12:34:32.207402Z"
        },
        "id": "8754e248"
      },
      "outputs": [],
      "source": [
        "train['제목_키워드'] = train['제목_키워드'].replace('용인시','',regex=True)\n",
        "test['제목_키워드'] = test['제목_키워드'].replace('용인시','',regex=True)\n"
      ]
    },
    {
      "cell_type": "code",
      "execution_count": null,
      "id": "9f60d8a3",
      "metadata": {
        "ExecuteTime": {
          "end_time": "2024-10-12T12:34:34.937841Z",
          "start_time": "2024-10-12T12:34:33.048388Z"
        },
        "id": "9f60d8a3"
      },
      "outputs": [],
      "source": [
        "train['제목_키워드'] = train['제목_키워드'].apply(lambda x: ' '.join([word for word in x.split(' ') if len(word) > 1]))\n",
        "test['제목_키워드'] = test['제목_키워드'].apply(lambda x: ' '.join([word for word in x.split(' ') if len(word) > 1]))"
      ]
    },
    {
      "cell_type": "code",
      "execution_count": null,
      "id": "7d747d13",
      "metadata": {
        "ExecuteTime": {
          "end_time": "2024-10-12T12:34:37.353471Z",
          "start_time": "2024-10-12T12:34:37.175807Z"
        },
        "colab": {
          "base_uri": "https://localhost:8080/"
        },
        "id": "7d747d13",
        "outputId": "ecb990d5-111f-4600-889a-267bee33a8a3"
      },
      "outputs": [
        {
          "output_type": "stream",
          "name": "stdout",
          "text": [
            "한글 이외의 텍스트가 있는 행:\n",
            "                                                  제목_키워드         분류\n",
            "2040   도서관 경기도 도서관 곳곳 다양한 행사 열려 도서관 경기도 도서관 행사 안성 도서관...         지역\n",
            "3110   토론 합시다 가평군 생명 지킴 누군가 안타까운 선택 막기 위해 해야 할까 토론 가평...         지역\n",
            "4613   도서관 법정기념일 경기도 다양한 기념 행사 진행 도서관 법정기념일 경기도 진행 기념...   문화:전시_공연\n",
            "11650  같아 보였나 강압 수사 주장 이은해 연남 조현수 질문 검사 주장 강압 수사 이은해 ...   사회:사건_사고\n",
            "15131  저렴한 수수료 이익 껑충 칭찬 일색 경기도 공공 배달 배달 특급 수수료 이익 경기 ...    경제:경제일반\n",
            "18315  일상 탄소 중립 실천 하며 기후 위기 체감 일상 일상 탄소 중립 실천 기후 위기 체...    사회:사회일반\n",
            "18965  도서관 동네 도서관 행사 열릴까 도서관 동네 도서관 행사 경기도 도서관 도내 시민 ...         지역\n",
            "25015  상일동 드래곤 이재용 삼성 부회장 어린이집 진심 보이 사진 보는 상일동 드래곤 이재...   경제:산업_기업\n",
            "26809  용인 국회의원 의정 보고 엉터리 과장 홍보물 판쳐 논란 용인 국회의원 용인 의정 보...         지역\n",
            "34172  엽서 보낼 자유 달라 엽서 자유 퀴즈 잔치 정답 온라인 응모 시도 손맛 신속 환경 ...  스포츠:스포츠일반\n",
            "35819  간소 좋지만 경기도 위탁 기관 맞나요 위탁 기관 경기도 위탁 기관 상현동 수지구 위...         지역\n",
            "37694  끼어들기 손가락 차주 처벌 없자 분하지 ㅋㅋ 손가락 차주 처벌 ㅋㅋ 무리 양보 손가...   사회:사건_사고\n",
            "44290  오거리 거리 축제 주민 주도 콘텐츠 모색 오거리 거리 축제 주민 주도 콘텐츠 모색 ...         지역\n",
            "45152  하냐 넘는 폭언 지쳐가는 학생회 폭언 학생회 코로나 사태 의존 학생 학생회 학우 학...   사회:교육_시험\n",
            "47867  국회의원 사실 무근 백화점 나열 알리기 눈살 백화점 나열 눈살 의정 보고 예산 확정...         지역\n",
            "49228  도서관 법정기념일 동네 도서관 행사 열릴까 도서관 법정기념일 동네 도서관 행사 도서...   문화:전시_공연\n",
            "52181  팩트 사이드 평택시 고덕 지역 월세 서울 강남 보다 비싸다 월세 평택시 고덕 지역 ...     경제:부동산\n"
          ]
        }
      ],
      "source": [
        "import pandas as pd\n",
        "import re\n",
        "\n",
        "# 한글 정규식 패턴\n",
        "korean_pattern = re.compile('[^가-힣 ]')\n",
        "\n",
        "# 한글 이외의 텍스트가 포함된 행 찾기\n",
        "non_korean_rows = train[train['제목_키워드'].apply(lambda x: bool(korean_pattern.search(x)))]\n",
        "\n",
        "# 한글 이외의 텍스트가 있는 행 출력\n",
        "if not non_korean_rows.empty:\n",
        "    print(\"한글 이외의 텍스트가 있는 행:\")\n",
        "    print(non_korean_rows)\n",
        "else:\n",
        "    print(\"모든 텍스트가 한글로 되어 있습니다.\")\n"
      ]
    },
    {
      "cell_type": "code",
      "source": [
        "train['제목_키워드'] = train['제목_키워드'].apply(lambda x: re.sub(korean_pattern, '', x))\n",
        "test['제목_키워드'] = test['제목_키워드'].apply(lambda x: re.sub(korean_pattern, '', x))\n"
      ],
      "metadata": {
        "id": "VMbBylAzwwZt"
      },
      "id": "VMbBylAzwwZt",
      "execution_count": null,
      "outputs": []
    },
    {
      "cell_type": "code",
      "source": [
        "pip install konlpy"
      ],
      "metadata": {
        "colab": {
          "base_uri": "https://localhost:8080/"
        },
        "id": "TYSdnod94grT",
        "outputId": "75381916-db09-4bc1-8702-7a22f9ae0ee2"
      },
      "id": "TYSdnod94grT",
      "execution_count": null,
      "outputs": [
        {
          "output_type": "stream",
          "name": "stdout",
          "text": [
            "Collecting konlpy\n",
            "  Downloading konlpy-0.6.0-py2.py3-none-any.whl.metadata (1.9 kB)\n",
            "Collecting JPype1>=0.7.0 (from konlpy)\n",
            "  Downloading JPype1-1.5.0-cp310-cp310-manylinux_2_17_x86_64.manylinux2014_x86_64.whl.metadata (4.9 kB)\n",
            "Requirement already satisfied: lxml>=4.1.0 in /usr/local/lib/python3.10/dist-packages (from konlpy) (4.9.4)\n",
            "Requirement already satisfied: numpy>=1.6 in /usr/local/lib/python3.10/dist-packages (from konlpy) (1.26.4)\n",
            "Requirement already satisfied: packaging in /usr/local/lib/python3.10/dist-packages (from JPype1>=0.7.0->konlpy) (24.1)\n",
            "Downloading konlpy-0.6.0-py2.py3-none-any.whl (19.4 MB)\n",
            "\u001b[2K   \u001b[90m━━━━━━━━━━━━━━━━━━━━━━━━━━━━━━━━━━━━━━━━\u001b[0m \u001b[32m19.4/19.4 MB\u001b[0m \u001b[31m24.7 MB/s\u001b[0m eta \u001b[36m0:00:00\u001b[0m\n",
            "\u001b[?25hDownloading JPype1-1.5.0-cp310-cp310-manylinux_2_17_x86_64.manylinux2014_x86_64.whl (488 kB)\n",
            "\u001b[2K   \u001b[90m━━━━━━━━━━━━━━━━━━━━━━━━━━━━━━━━━━━━━━━━\u001b[0m \u001b[32m488.6/488.6 kB\u001b[0m \u001b[31m24.1 MB/s\u001b[0m eta \u001b[36m0:00:00\u001b[0m\n",
            "\u001b[?25hInstalling collected packages: JPype1, konlpy\n",
            "Successfully installed JPype1-1.5.0 konlpy-0.6.0\n"
          ]
        }
      ]
    },
    {
      "cell_type": "code",
      "source": [
        "from konlpy.tag import Okt\n",
        "\n",
        "# Okt 객체 생성\n",
        "okt = Okt()\n",
        "\n",
        "# 모든 품사를 명사로 통일하는 함수 정의\n",
        "def unify_to_noun(text):\n",
        "    # 모든 단어를 명사로 변환\n",
        "    nouns = okt.nouns(text)\n",
        "    # 변환된 명사들을 공백으로 결합하여 반환\n",
        "    return ' '.join(nouns)\n",
        "\n",
        "# train['제목_키워드']에 적용\n",
        "train['제목_키워드'] = train['제목_키워드'].apply(unify_to_noun)\n",
        "test['제목_키워드'] = test['제목_키워드'].apply(unify_to_noun)\n",
        "\n",
        "# 결과 확인\n",
        "print(train['제목_키워드'].head())"
      ],
      "metadata": {
        "colab": {
          "base_uri": "https://localhost:8080/"
        },
        "id": "06xaxRDuw0Eu",
        "outputId": "0e76f7e0-9300-4c39-cb5b-9caaaa4ce24d"
      },
      "id": "06xaxRDuw0Eu",
      "execution_count": null,
      "outputs": [
        {
          "output_type": "stream",
          "name": "stdout",
          "text": [
            "0    용인 문화재단 인문학 콘서트 뮤지컬 이야기 개최 용인 문화재단 인문학 콘서트 뮤지컬...\n",
            "1    용인 농촌 테마 파크 단체 체험 체험 지원 용인 농촌 테마 파크 단체 체험 체험 지...\n",
            "2    노후 주택 에너지 성능 개선 신청 연장 노후 주택 에너지 성능 개선 신청 연장 노후...\n",
            "3    수원 용인 고양시 특례시 지정 도시 경쟁력 증가 기대 수원 용인 고양시 특례시 지정...\n",
            "4    스페인 미국 국제 명예 문관 위촉 대외 홍보 지원 역할 스페인 미국 국제 명예 자문...\n",
            "Name: 제목_키워드, dtype: object\n"
          ]
        }
      ]
    },
    {
      "cell_type": "code",
      "source": [
        "train.to_csv('train_df_noun.csv', index=False, encoding='utf-8-sig')\n",
        "test.to_csv('test_df_noun.csv', index=False, encoding='utf-8-sig')"
      ],
      "metadata": {
        "id": "uLewGZHt_Whz"
      },
      "id": "uLewGZHt_Whz",
      "execution_count": null,
      "outputs": []
    }
  ],
  "metadata": {
    "hide_input": false,
    "kernelspec": {
      "display_name": "Python 3 (ipykernel)",
      "language": "python",
      "name": "python3"
    },
    "language_info": {
      "codemirror_mode": {
        "name": "ipython",
        "version": 3
      },
      "file_extension": ".py",
      "mimetype": "text/x-python",
      "name": "python",
      "nbconvert_exporter": "python",
      "pygments_lexer": "ipython3",
      "version": "3.11.5"
    },
    "toc": {
      "base_numbering": 1,
      "nav_menu": {},
      "number_sections": true,
      "sideBar": true,
      "skip_h1_title": false,
      "title_cell": "Table of Contents",
      "title_sidebar": "Contents",
      "toc_cell": false,
      "toc_position": {},
      "toc_section_display": true,
      "toc_window_display": false
    },
    "varInspector": {
      "cols": {
        "lenName": 16,
        "lenType": 16,
        "lenVar": 40
      },
      "kernels_config": {
        "python": {
          "delete_cmd_postfix": "",
          "delete_cmd_prefix": "del ",
          "library": "var_list.py",
          "varRefreshCmd": "print(var_dic_list())"
        },
        "r": {
          "delete_cmd_postfix": ") ",
          "delete_cmd_prefix": "rm(",
          "library": "var_list.r",
          "varRefreshCmd": "cat(var_dic_list()) "
        }
      },
      "types_to_exclude": [
        "module",
        "function",
        "builtin_function_or_method",
        "instance",
        "_Feature"
      ],
      "window_display": false
    },
    "colab": {
      "provenance": []
    }
  },
  "nbformat": 4,
  "nbformat_minor": 5
}